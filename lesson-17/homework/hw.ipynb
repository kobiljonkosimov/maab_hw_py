{
 "cells": [
  {
   "cell_type": "code",
   "execution_count": null,
   "metadata": {},
   "outputs": [],
   "source": [
    "import pandas as pd\n",
    "import sqlite3"
   ]
  },
  {
   "cell_type": "markdown",
   "metadata": {},
   "source": [
    "## **Merging and Joining**"
   ]
  },
  {
   "cell_type": "markdown",
   "metadata": {},
   "source": [
    "### 1. **Inner Join on Chinook Database**"
   ]
  },
  {
   "cell_type": "code",
   "execution_count": null,
   "metadata": {},
   "outputs": [],
   "source": [
    "conn = sqlite3.connect('chinook.db')\n",
    "\n",
    "customers_df = pd.read_sql_query(\"SELECT * FROM customers\", conn)\n",
    "invoices_df = pd.read_sql_query(\"SELECT * FROM invoices\", conn)\n",
    "\n",
    "inner_join_df = pd.merge(customers_df, invoices_df, on='CustomerId', how='inner')\n",
    "\n",
    "total_invoices_per_customer = inner_join_df.groupby('CustomerId').size().reset_index(name='TotalInvoices')\n",
    "print(\"Total number of invoices for each customer:\")\n",
    "print(total_invoices_per_customer)\n",
    "\n",
    "conn.close()"
   ]
  },
  {
   "cell_type": "markdown",
   "metadata": {},
   "source": [
    "### 2. **Outer Join on Movie Data**"
   ]
  },
  {
   "cell_type": "code",
   "execution_count": null,
   "metadata": {},
   "outputs": [],
   "source": [
    "movie_df = pd.read_csv('movie.csv')\n",
    "\n",
    "df_color = movie_df[['director_name', 'color']]\n",
    "df_reviews = movie_df[['director_name', 'num_critic_for_reviews']]\n",
    "\n",
    "left_join_df = pd.merge(df_color, df_reviews, on='director_name', how='left')\n",
    "print(\"\\nLeft join result shape:\", left_join_df.shape)\n",
    "\n",
    "outer_join_df = pd.merge(df_color, df_reviews, on='director_name', how='outer')\n",
    "print(\"Full outer join result shape:\", outer_join_df.shape)\n",
    "\n",
    "print(\"Number of rows in left join:\", left_join_df.shape[0])\n",
    "print(\"Number of rows in full outer join:\", outer_join_df.shape[0])"
   ]
  }
 ],
 "metadata": {
  "language_info": {
   "name": "python"
  }
 },
 "nbformat": 4,
 "nbformat_minor": 2
}
