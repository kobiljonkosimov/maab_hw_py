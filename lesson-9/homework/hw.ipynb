{
 "cells": [
  {
   "cell_type": "code",
   "execution_count": null,
   "metadata": {},
   "outputs": [],
   "source": [
    "import csv\n",
    "import json"
   ]
  },
  {
   "cell_type": "code",
   "execution_count": null,
   "metadata": {},
   "outputs": [],
   "source": [
    "def read_grades(filename):\n",
    "    grades = []\n",
    "    with open(filename, mode='r') as file:\n",
    "        reader = csv.DictReader(file)\n",
    "        for row in reader:\n",
    "            row['Grade'] = int(row['Grade'])\n",
    "            grades.append(row)\n",
    "    return grades\n",
    "\n",
    "def calculate_average(grades):\n",
    "    subject_grades = {}\n",
    "    \n",
    "    for entry in grades:\n",
    "        subject = entry['Subject']\n",
    "        grade = entry['Grade']\n",
    "        \n",
    "        if subject not in subject_grades:\n",
    "            subject_grades[subject] = []\n",
    "        \n",
    "        subject_grades[subject].append(grade)\n",
    "\n",
    "    averages = {subject: sum(marks) / len(marks) for subject, marks in subject_grades.items()}\n",
    "    return averages\n",
    "    \n",
    "def write_average_grades(averages, filename):\n",
    "    with open(filename, mode='w', newline='') as file:\n",
    "        writer = csv.writer(file)\n",
    "        writer.writerow([\"Subject\", \"Average Grade\"])\n",
    "        for subject, avg in averages.items():\n",
    "            writer.writerow([subject, round(avg, 2)])"
   ]
  },
  {
   "cell_type": "code",
   "execution_count": null,
   "metadata": {},
   "outputs": [],
   "source": [
    "def load_tasks(filename):\n",
    "    with open(filename, 'r') as file:\n",
    "        return json.load(file)\n",
    "\n",
    "def display_tasks(tasks):\n",
    "    for task in tasks:\n",
    "        print(f\"ID: {task['id']}, Task: {task['task']}, Completed: {task['completed']}, Priority: {task['priority']}\")\n",
    "\n",
    "def save_tasks(tasks, filename):\n",
    "    with open(filename, 'w') as file:\n",
    "        json.dump(tasks, file, indent=4)\n",
    "\n",
    "def task_statistics(tasks):\n",
    "    total = len(tasks)\n",
    "    completed = sum(1 for task in tasks if task[\"completed\"])\n",
    "    pending = total - completed\n",
    "    avg_priority = sum(task[\"priority\"] for task in tasks) / total if total else 0\n",
    "\n",
    "    print(f\"Total tasks: {total}\")\n",
    "    print(f\"Completed tasks: {completed}\")\n",
    "    print(f\"Pending tasks: {pending}\")\n",
    "    print(f\"Average priority: {avg_priority:.2f}\")\n",
    "\n",
    "\n",
    "def json_to_csv(tasks, filename):\n",
    "    with open(filename, mode='w', newline='') as file:\n",
    "        writer = csv.writer(file)\n",
    "        writer.writerow([\"ID\", \"Task\", \"Completed\", \"Priority\"])\n",
    "        for task in tasks:\n",
    "            writer.writerow([task[\"id\"], task[\"task\"], task[\"completed\"], task[\"priority\"]])"
   ]
  }
 ],
 "metadata": {
  "kernelspec": {
   "display_name": "venv",
   "language": "python",
   "name": "python3"
  },
  "language_info": {
   "name": "python",
   "version": "3.11.1"
  }
 },
 "nbformat": 4,
 "nbformat_minor": 2
}
