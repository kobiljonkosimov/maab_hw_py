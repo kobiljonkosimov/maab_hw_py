{
 "cells": [
  {
   "cell_type": "code",
   "execution_count": null,
   "metadata": {},
   "outputs": [],
   "source": [
    "def check(func):\n",
    "    def checked_func(a, b):\n",
    "        if b == 0:\n",
    "            return \"Denominator can't be zero\"\n",
    "        return func(a, b)\n",
    "    return checked_func\n",
    "\n",
    "@check\n",
    "def div(a, b):\n",
    "    return a / b"
   ]
  },
  {
   "cell_type": "code",
   "execution_count": null,
   "metadata": {},
   "outputs": [],
   "source": [
    "file_name = \"sample.txt\"\n",
    "output_file = \"word_count_report.txt\"\n",
    "\n",
    "def get_text():\n",
    "    if not os.path.exists(file_name):\n",
    "        print(\"File not found. Creating new file.\")\n",
    "        with open(file_name, \"w\") as file:\n",
    "            file.write(input(\"Enter text: \") + \"\\n\")\n",
    "    \n",
    "    with open(file_name, \"r\") as file:\n",
    "        return file.read()\n",
    "\n",
    "def count_words(text):\n",
    "    text = text.lower().translate(str.maketrans(\"\", \"\", string.punctuation))\n",
    "    words = text.split()\n",
    "    return Counter(words)\n",
    "\n",
    "def save_report(word_counts, total_words, top_n=5):\n",
    "    with open(output_file, \"w\") as file:\n",
    "        file.write(\"Word Count Report\\n\")\n",
    "        file.write(f\"Total Words: {total_words}\\n\")\n",
    "        file.write(f\"Top {top_n} Words:\\n\")\n",
    "        for word, count in word_counts.most_common(top_n):\n",
    "            file.write(f\"{word} - {count}\\n\")\n",
    "\n",
    "def main():\n",
    "    text = get_text()\n",
    "    word_counts = count_words(text)\n",
    "    total_words = sum(word_counts.values())\n",
    "\n",
    "    print(f\"\\nTotal words: {total_words}\")\n",
    "    print(f\"Top 5 most common words:\")\n",
    "    for word, count in word_counts.most_common(5):\n",
    "        print(f\"{word} - {count} times\")\n",
    "\n",
    "    save_report(word_counts, total_words, top_n=5)\n",
    "    print(f\"\\nReport saved to {output_file}\")\n",
    "\n",
    "if __name__ == \"__main__\":\n",
    "    main()"
   ]
  }
 ],
 "metadata": {
  "kernelspec": {
   "display_name": "venv",
   "language": "python",
   "name": "python3"
  },
  "language_info": {
   "name": "python",
   "version": "3.11.1"
  }
 },
 "nbformat": 4,
 "nbformat_minor": 2
}
