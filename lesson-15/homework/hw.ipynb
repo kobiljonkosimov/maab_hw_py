{
 "cells": [
  {
   "cell_type": "code",
   "execution_count": null,
   "metadata": {},
   "outputs": [],
   "source": [
    "import numpy as np\n",
    "import matplotlib.pyplot as plt"
   ]
  },
  {
   "cell_type": "markdown",
   "metadata": {},
   "source": [
    "## Task 1"
   ]
  },
  {
   "cell_type": "code",
   "execution_count": null,
   "metadata": {},
   "outputs": [],
   "source": [
    "x = np.linspace(-10, 10, 400)\n",
    "y = x**2 - 4*x + 4 \n",
    "\n",
    "plt.plot(x, y, label=r\"$f(x) = x^2 - 4x + 4$\", color='b')\n",
    "plt.xlabel(\"x-axis\")\n",
    "plt.ylabel(\"y-axis\")\n",
    "plt.title(\"Plot of $f(x) = x^2 - 4x + 4$\")\n",
    "plt.legend()\n",
    "plt.grid()\n",
    "plt.show()"
   ]
  },
  {
   "cell_type": "markdown",
   "metadata": {},
   "source": [
    "## Task 2"
   ]
  },
  {
   "cell_type": "code",
   "execution_count": null,
   "metadata": {},
   "outputs": [],
   "source": [
    "x = np.linspace(0, 2*np.pi, 400)\n",
    "sin_x = np.sin(x)\n",
    "cos_x = np.cos(x)\n",
    "\n",
    "plt.plot(x, sin_x, label=\"sin(x)\", linestyle=\"--\", color=\"r\")\n",
    "plt.plot(x, cos_x, label=\"cos(x)\", linestyle=\"-.\", color=\"b\")\n",
    "plt.xlabel(\"x-axis\")\n",
    "plt.ylabel(\"y-axis\")\n",
    "plt.title(\"Sine and Cosine Functions\")\n",
    "plt.legend()\n",
    "plt.grid()\n",
    "plt.show()"
   ]
  },
  {
   "cell_type": "markdown",
   "metadata": {},
   "source": [
    "## Task 3"
   ]
  },
  {
   "cell_type": "code",
   "execution_count": null,
   "metadata": {},
   "outputs": [],
   "source": [
    "fig, ax = plt.subplots(2, 2, figsize=(10, 8))\n",
    "x = np.linspace(-2, 2, 400)\n",
    "\n",
    "ax[0, 0].plot(x, x**3, color='r')\n",
    "ax[0, 0].set_title(\"$f(x) = x^3$\")\n",
    "ax[0, 0].grid()\n",
    "\n",
    "ax[0, 1].plot(x, np.sin(x), color='g')\n",
    "ax[0, 1].set_title(\"$f(x) = \\sin(x)$\")\n",
    "ax[0, 1].grid()\n",
    "\n",
    "ax[1, 0].plot(x, np.exp(x), color='b')\n",
    "ax[1, 0].set_title(\"$f(x) = e^x$\")\n",
    "ax[1, 0].grid()\n",
    "\n",
    "x_pos = np.linspace(0, 2, 400)\n",
    "ax[1, 1].plot(x_pos, np.log(x_pos + 1), color='purple')\n",
    "ax[1, 1].set_title(\"$f(x) = \\log(x+1)$\")\n",
    "ax[1, 1].grid()\n",
    "\n",
    "plt.tight_layout()\n",
    "plt.show()"
   ]
  },
  {
   "cell_type": "markdown",
   "metadata": {},
   "source": [
    "## Task 4"
   ]
  },
  {
   "cell_type": "code",
   "execution_count": null,
   "metadata": {},
   "outputs": [],
   "source": [
    "x = np.random.uniform(0, 10, 100)\n",
    "y = np.random.uniform(0, 10, 100)\n",
    "\n",
    "plt.scatter(x, y, color='blue', marker='o', alpha=0.7)\n",
    "plt.xlabel(\"X values\")\n",
    "plt.ylabel(\"Y values\")\n",
    "plt.title(\"Scatter Plot of Random Points\")\n",
    "plt.grid()\n",
    "plt.show()"
   ]
  },
  {
   "cell_type": "markdown",
   "metadata": {},
   "source": [
    "## Task 5"
   ]
  },
  {
   "cell_type": "code",
   "execution_count": null,
   "metadata": {},
   "outputs": [],
   "source": [
    "data = np.random.normal(0, 1, 1000)\n",
    "\n",
    "plt.hist(data, bins=30, alpha=0.7, color='c', edgecolor='black')\n",
    "plt.xlabel(\"Value\")\n",
    "plt.ylabel(\"Frequency\")\n",
    "plt.title(\"Histogram of Normally Distributed Data\")\n",
    "plt.grid()\n",
    "plt.show()"
   ]
  }
 ],
 "metadata": {
  "language_info": {
   "name": "python"
  }
 },
 "nbformat": 4,
 "nbformat_minor": 2
}
