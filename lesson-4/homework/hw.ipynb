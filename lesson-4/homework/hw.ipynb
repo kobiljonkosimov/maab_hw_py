{
 "cells": [
  {
   "cell_type": "code",
   "execution_count": 4,
   "metadata": {},
   "outputs": [],
   "source": [
    "import pandas as pd\n",
    "import numpy as np\n",
    "import random"
   ]
  },
  {
   "cell_type": "code",
   "execution_count": null,
   "metadata": {},
   "outputs": [],
   "source": [
    "def uncommon(list1, list2):\n",
    "    s1, s2 = pd.Series(list1), pd.Series(list2)\n",
    "    return list(s1[~s1.isin(s2)]) + list(s2[~s2.isin(s1)])"
   ]
  },
  {
   "cell_type": "code",
   "execution_count": null,
   "metadata": {},
   "outputs": [],
   "source": [
    "def squares(n):\n",
    "    print(*np.arange(1, n) ** 2, sep='\\n')"
   ]
  },
  {
   "cell_type": "code",
   "execution_count": null,
   "metadata": {},
   "outputs": [],
   "source": [
    "def modifier(txt):\n",
    "    res, count = [], 0\n",
    "    for i, c in enumerate(txt):\n",
    "        res.append(c)\n",
    "        count += 1\n",
    "        if count == 3 and (i + 1 < len(txt) and txt[i + 1] not in \"aeiou_\"):\n",
    "            res.append('_')\n",
    "            count = 0\n",
    "    return ''.join(res)"
   ]
  },
  {
   "cell_type": "code",
   "execution_count": null,
   "metadata": {},
   "outputs": [],
   "source": [
    "def number_guess():\n",
    "    while True:\n",
    "        num, attempts = np.random.randint(1, 101), 10\n",
    "        while attempts:\n",
    "            guess = int(input(\"Guess: \"))\n",
    "            if guess > num: print(\"Too high!\")\n",
    "            elif guess < num: print(\"Too low!\")\n",
    "            else: print(\"Won!\"); return\n",
    "            attempts -= 1\n",
    "        if input(\"Lost. Play again? \").lower() not in ['y', 'yes', 'ok']: break"
   ]
  },
  {
   "cell_type": "code",
   "execution_count": null,
   "metadata": {},
   "outputs": [],
   "source": [
    "def check_password():\n",
    "    p = input(\"Enter password: \")\n",
    "    print(\"Password is too short.\" if len(p) < 8 else \"Password must contain an uppercase letter.\" if p == p.lower() else \"Password is strong.\")"
   ]
  },
  {
   "cell_type": "code",
   "execution_count": null,
   "metadata": {},
   "outputs": [],
   "source": [
    "def primes():\n",
    "    nums = np.arange(2, 101)\n",
    "    primes = nums[np.array([all(n % d for d in range(2, int(n**0.5) + 1)) for n in nums])]\n",
    "    print(*primes)"
   ]
  },
  {
   "cell_type": "code",
   "execution_count": 5,
   "metadata": {},
   "outputs": [],
   "source": [
    "def rps():\n",
    "    choices, score = [\"rock\", \"paper\", \"scissors\"], [0, 0]\n",
    "    while max(score) < 5:\n",
    "        p, c = input(\"Rock, Paper, Scissors? \").lower(), np.random.choice(choices)\n",
    "        print(f\"Computer: {c}\")\n",
    "        if p == c: print(\"Draw!\")\n",
    "        elif (p, c) in [(\"rock\", \"scissors\"), (\"scissors\", \"paper\"), (\"paper\", \"rock\")]:\n",
    "            print(\"You win!\"); score[0] += 1\n",
    "        else: print(\"Computer wins!\"); score[1] += 1\n",
    "    print(\"You won!\" if score[0] == 5 else \"Computer won!\")"
   ]
  },
  {
   "cell_type": "code",
   "execution_count": 6,
   "metadata": {},
   "outputs": [
    {
     "name": "stdout",
     "output_type": "stream",
     "text": [
      "Computer: scissors\n",
      "You win!\n",
      "Computer: scissors\n",
      "Computer wins!\n",
      "Computer: scissors\n",
      "Computer wins!\n",
      "Computer: rock\n",
      "You win!\n",
      "Computer: paper\n",
      "Computer wins!\n",
      "Computer: scissors\n",
      "Computer wins!\n",
      "Computer: rock\n",
      "Computer wins!\n",
      "Computer won!\n"
     ]
    }
   ],
   "source": [
    "rps()"
   ]
  },
  {
   "cell_type": "code",
   "execution_count": null,
   "metadata": {},
   "outputs": [],
   "source": []
  }
 ],
 "metadata": {
  "kernelspec": {
   "display_name": "venv",
   "language": "python",
   "name": "python3"
  },
  "language_info": {
   "codemirror_mode": {
    "name": "ipython",
    "version": 3
   },
   "file_extension": ".py",
   "mimetype": "text/x-python",
   "name": "python",
   "nbconvert_exporter": "python",
   "pygments_lexer": "ipython3",
   "version": "3.11.1"
  }
 },
 "nbformat": 4,
 "nbformat_minor": 2
}
