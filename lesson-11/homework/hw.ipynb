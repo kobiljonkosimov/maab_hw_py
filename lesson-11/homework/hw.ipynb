{
 "cells": [
  {
   "cell_type": "code",
   "execution_count": null,
   "metadata": {},
   "outputs": [],
   "source": [
    "import sqlite3"
   ]
  },
  {
   "cell_type": "markdown",
   "metadata": {},
   "source": [
    "## Task 1"
   ]
  },
  {
   "cell_type": "code",
   "execution_count": null,
   "metadata": {},
   "outputs": [],
   "source": [
    "conn = sqlite3.connect('roster.db')\n",
    "c = conn.cursor()\n",
    "c.execute(\"DROP TABLE IF EXISTS Roster\")\n",
    "\n",
    "Roster_list = [\n",
    "    ('Benjamin Sisko','Human',40),\n",
    "    ('Jadzia Dax','Trill',300),\n",
    "    ('Kira Nerys','Bajoran',29)\n",
    "    ]\n",
    "\n",
    "c.execute(\"\"\"CREATE TABLE IF NOT EXISTS Roster(\n",
    "        Name TEXT,\n",
    "        Species TEXT,\n",
    "        Age INTEGER\n",
    "    )\"\"\")\n",
    "\n",
    "c.executemany(\"INSERT OR IGNORE INTO Roster VALUES(?,?,?)\", Roster_list)\n",
    "c.execute(\"UPDATE Roster SET Name = ? WHERE Name = ?\", ('Ezri Dax','Jadzia Dax'))\n",
    "\n",
    "conn.commit()\n",
    "\n",
    "c.execute(\"DELETE FROM Roster WHERE Age > 100\")\n",
    "c.execute(\"INSERT INTO Roster VALUES (?,?,?)\", ('Ezri Dax','Trill', 29))\n",
    "c.execute(\"SELECT * FROM Roster WHERE Species = ?\", ('Bajoran',))\n",
    "\n",
    "rows = c.fetchall()\n",
    "for row in rows :\n",
    "    print(row)\n",
    "\n",
    "\n",
    "c.execute(\"ALTER TABLE Roster ADD COLUMN Rank TEXT\")\n",
    "c.execute(\"UPDATE Roster SET Rank = ? WHERE Name = ?\", ('Captain', 'Benjamin Sisko'))\n",
    "c.execute(\"UPDATE Roster SET Rank = ? WHERE Name = ?\", ('Major', 'Kira Nerys'))\n",
    "c.execute(\"UPDATE Roster SET Rank = ? WHERE Name = ?\", ('Lieutenant', 'Ezri Dax'))\n",
    "\n",
    "conn.commit()\n",
    "\n",
    "c.execute (\"SELECT * FROM Roster ORDER BY Age DESC\")\n",
    "rowss = c.fetchall()\n",
    "for row in rowss :\n",
    "    print(row)\n",
    "\n",
    "conn.close()"
   ]
  },
  {
   "cell_type": "markdown",
   "metadata": {},
   "source": [
    "## Task 2"
   ]
  },
  {
   "cell_type": "code",
   "execution_count": null,
   "metadata": {},
   "outputs": [],
   "source": [
    "conn = sqlite3.connect('library.db')\n",
    "c = conn.cursor()\n",
    "c.execute(\"DROP TABLE IF EXISTS Books\")\n",
    "\n",
    "Books_list = [\n",
    "    ('To Kill a Mockingbird','Harper Lee',1960,'Fiction'),\n",
    "    ('1984','George Orwell',1949,'Dystopian'),\n",
    "    ('The Great Gatsby','F. Scott Fitzgerald',1925,'Classic')\n",
    "    ]\n",
    "\n",
    "c.execute(\"\"\"CREATE TABLE IF NOT EXISTS Books(\n",
    "        Title TEXT,\n",
    "        Author TEXT,\n",
    "        Year_Published INTEGER,\n",
    "        Genre TEXT  \n",
    "    )\"\"\")\n",
    "\n",
    "c.executemany(\"INSERT OR IGNORE INTO Books VALUES(?,?,?,?)\", Books_list)\n",
    "c.execute(\"UPDATE Books SET Year_Published = ? WHERE Title = ?\", (1950, '1984'))\n",
    "\n",
    "conn.commit()\n",
    "\n",
    "c.execute(\"DELETE FROM Books WHERE Year_Published < 1950\")\n",
    "c.execute(\"INSERT INTO Books VALUES (?,?,?,?)\", ('The Great Gatsby','F. Scott Fitzgerald',1925,'Classic'))\n",
    "c.execute(\"SELECT * FROM Books WHERE Genre = ?\", ('Dystopian',))\n",
    "\n",
    "rows = c.fetchall()\n",
    "for row in rows :\n",
    "    print(row)\n",
    "\n",
    "c.execute(\"ALTER TABLE Books ADD COLUMN Rating REAL\")\n",
    "c.execute(\"UPDATE Books SET Rating = ? WHERE Title = ?\", (4.8, 'To Kill a Mockingbird'))\n",
    "c.execute(\"UPDATE Books SET Rating = ? WHERE Title = ?\", (4.7, '1984'))\n",
    "c.execute(\"UPDATE Books SET Rating = ? WHERE Title = ?\", (4.5, 'The Great Gatsby'))\n",
    "\n",
    "conn.commit()\n",
    "\n",
    "c.execute (\"SELECT * FROM Books ORDER BY Year_Published ASC\")\n",
    "rowss = c.fetchall()\n",
    "for row in rowss :\n",
    "    print(row)\n",
    "\n",
    "conn.close()"
   ]
  }
 ],
 "metadata": {
  "kernelspec": {
   "display_name": "venv",
   "language": "python",
   "name": "python3"
  },
  "language_info": {
   "name": "python",
   "version": "3.9.13"
  }
 },
 "nbformat": 4,
 "nbformat_minor": 2
}
