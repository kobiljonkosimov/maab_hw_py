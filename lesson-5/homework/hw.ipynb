{
 "cells": [
  {
   "cell_type": "code",
   "execution_count": null,
   "metadata": {},
   "outputs": [],
   "source": [
    "def convert_cel_to_far(c):\n",
    "    return round(c * 9 / 5 + 32, 2)\n",
    "\n",
    "def convert_far_to_cel(f):\n",
    "    return round((f - 32) * 5 / 9, 2)"
   ]
  },
  {
   "cell_type": "code",
   "execution_count": null,
   "metadata": {},
   "outputs": [],
   "source": [
    "def invest(amount, rate, years):\n",
    "    for y in range(1, years + 1):\n",
    "        amount += amount * rate\n",
    "        print(f\"year {y}: ${amount:.2f}\")"
   ]
  },
  {
   "cell_type": "code",
   "execution_count": null,
   "metadata": {},
   "outputs": [],
   "source": [
    "def(n):\n",
    "    for i in range(1, n + 1):\n",
    "    if n % i == 0:\n",
    "        print(f\"{i} is a factor of {n}\")"
   ]
  },
  {
   "cell_type": "code",
   "execution_count": null,
   "metadata": {},
   "outputs": [],
   "source": [
    "    universities = [\n",
    "    ['California Institute of Technology', 2175, 37704],\n",
    "    ['Harvard', 19627, 39849],\n",
    "    ['Massachusetts Institute of Technology', 10566, 40732],\n",
    "    ['Princeton', 7802, 37000],\n",
    "    ['Rice', 5879, 35551],\n",
    "    ['Stanford', 19535, 40569],\n",
    "    ['Yale', 11701, 40500]\n",
    "]\n",
    "\n",
    "def enrollment_stats(data):\n",
    "    students, tuition = zip(*[(u[1], u[2]) for u in data])\n",
    "    return list(students), list(tuition)\n",
    "\n",
    "def mean(lst):\n",
    "    return sum(lst) / len(lst)\n",
    "\n",
    "def median(lst):\n",
    "    return np.median(lst)\n",
    "\n",
    "students, tuition = enrollment_stats(universities)\n",
    "\n",
    "print(f\"Total students: {sum(students):,}\")\n",
    "print(f\"Total tuition: $ {sum(tuition):,}\\n\")\n",
    "print(f\"Student mean: {mean(students):,.2f}\")\n",
    "print(f\"Student median: {median(students):,.0f}\\n\")\n",
    "print(f\"Tuition mean: $ {mean(tuition):,.2f}\")\n",
    "print(f\"Tuition median: $ {median(tuition):,.0f}\")"
   ]
  },
  {
   "cell_type": "code",
   "execution_count": null,
   "metadata": {},
   "outputs": [],
   "source": [
    "def is_prime(n):\n",
    "    return n > 1 and all(n % d for d in range(2, int(n**0.5) + 1))"
   ]
  }
 ],
 "metadata": {
  "kernelspec": {
   "display_name": "venv",
   "language": "python",
   "name": "python3"
  },
  "language_info": {
   "name": "python",
   "version": "3.11.1"
  }
 },
 "nbformat": 4,
 "nbformat_minor": 2
}
