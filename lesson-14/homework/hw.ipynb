{
 "cells": [
  {
   "cell_type": "code",
   "execution_count": null,
   "metadata": {},
   "outputs": [],
   "source": [
    "import numpy as np\n",
    "from PIL import Image\n",
    "import numpy as np"
   ]
  },
  {
   "cell_type": "markdown",
   "metadata": {},
   "source": [
    "## Task 1"
   ]
  },
  {
   "cell_type": "code",
   "execution_count": null,
   "metadata": {},
   "outputs": [],
   "source": [
    "def fahrenheit_to_celsius(f):\n",
    "    return (f - 32) * 5 / 9\n",
    "\n",
    "vectorized_conversion = np.vectorize(fahrenheit_to_celsius)\n",
    "fahrenheit_values = np.array([32, 68, 100, 212, 77])\n",
    "celsius_values = vectorized_conversion(fahrenheit_values)\n",
    "\n",
    "print(\"Celsius temperatures:\", celsius_values)"
   ]
  },
  {
   "cell_type": "markdown",
   "metadata": {},
   "source": [
    "## Task 2"
   ]
  },
  {
   "cell_type": "code",
   "execution_count": null,
   "metadata": {},
   "outputs": [],
   "source": [
    "def power(base, exponent):\n",
    "    return base ** exponent\n",
    "\n",
    "vectorized_power = np.vectorize(power)\n",
    "bases = np.array([2, 3, 4, 5])\n",
    "exponents = np.array([1, 2, 3, 4])\n",
    "result = vectorized_power(bases, exponents)\n",
    "\n",
    "print(\"Result:\", result)"
   ]
  },
  {
   "cell_type": "markdown",
   "metadata": {},
   "source": [
    "## Task 3"
   ]
  },
  {
   "cell_type": "code",
   "execution_count": null,
   "metadata": {},
   "outputs": [],
   "source": [
    "array_0 = np.array([[4, 5, 6], \n",
    "              [3, -1, 1], \n",
    "              [2, 1, -2]])\n",
    "\n",
    "array_1 = np.array([7, 4, 5])\n",
    "\n",
    "solution = np.linalg.solve(array_0, array_1)\n",
    "\n",
    "print(\"Solution (x, y, z):\", solution)"
   ]
  },
  {
   "cell_type": "markdown",
   "metadata": {},
   "source": [
    "## Task 4"
   ]
  },
  {
   "cell_type": "code",
   "execution_count": null,
   "metadata": {},
   "outputs": [],
   "source": [
    "array_0 = np.array([[10, -2, 3], \n",
    "              [-2, 8, -1], \n",
    "              [3, -1, 6]])\n",
    "\n",
    "array_1 = np.array([12, -5, 15])\n",
    "\n",
    "currents = np.linalg.solve(array_0, array_1)\n",
    "\n",
    "print(\"Currents (I1, I2, I3):\", currents)"
   ]
  },
  {
   "cell_type": "markdown",
   "metadata": {},
   "source": [
    "## Task 5"
   ]
  },
  {
   "cell_type": "code",
   "execution_count": null,
   "metadata": {},
   "outputs": [],
   "source": [
    "image = Image.open(\"/homework/images/birds.jpg\")\n",
    "image_array = np.array(image)\n",
    "\n",
    "flipped_horizontally = np.fliplr(image_array)\n",
    "\n",
    "flipped_vertically = np.flipud(image_array)\n",
    "\n",
    "Image.fromarray(flipped_horizontally).save(\"flipped_horizontally.jpg\")\n",
    "Image.fromarray(flipped_vertically).save(\"flipped_vertically.jpg\")"
   ]
  },
  {
   "cell_type": "code",
   "execution_count": null,
   "metadata": {},
   "outputs": [],
   "source": [
    "noise = np.random.randint(0, 50, image_array.shape, dtype=np.uint8)\n",
    "noisy_image = np.clip(image_array + noise, 0, 255)\n",
    "\n",
    "Image.fromarray(noisy_image).save(\"noisy_image.jpg\")"
   ]
  },
  {
   "cell_type": "code",
   "execution_count": null,
   "metadata": {},
   "outputs": [],
   "source": [
    "brightened_image = image_array.copy()\n",
    "brightened_image[:, :, 0] = np.clip(brightened_image[:, :, 0] + 40, 0, 255)\n",
    "\n",
    "-Image.fromarray(brightened_image).save(\"brightened_image.jpg\")"
   ]
  },
  {
   "cell_type": "code",
   "execution_count": null,
   "metadata": {},
   "outputs": [],
   "source": [
    "h, w, _ = image_array.shape\n",
    "center_x, center_y = w // 2, h // 2\n",
    "\n",
    "mask_size = 100\n",
    "\n",
    "masked_image = image_array.copy()\n",
    "masked_image[center_y - mask_size//2:center_y + mask_size//2, \n",
    "             center_x - mask_size//2:center_x + mask_size//2] = [0, 0, 0]\n",
    "\n",
    "Image.fromarray(masked_image).save(\"masked_image.jpg\")"
   ]
  }
 ],
 "metadata": {
  "language_info": {
   "name": "python"
  }
 },
 "nbformat": 4,
 "nbformat_minor": 2
}
